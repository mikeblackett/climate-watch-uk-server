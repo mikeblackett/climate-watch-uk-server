{
 "cells": [
  {
   "cell_type": "code",
   "execution_count": null,
   "metadata": {},
   "outputs": [],
   "source": [
    "# Standard libraries\n",
    "import os\n",
    "\n",
    "# Third-party libraries\n",
    "import geopandas as gpd\n",
    "import pandas as pd\n",
    "\n",
    "DATA_DIR = os.path.join(os.getcwd(), \"data\")\n",
    "GEO_DIR = os.path.join(DATA_DIR, \"external/spatial\")\n",
    "OUT_DIR = os.path.join(DATA_DIR, \"processed/space\")\n"
   ]
  },
  {
   "cell_type": "code",
   "execution_count": null,
   "metadata": {},
   "outputs": [],
   "source": [
    "codes = pd.read_csv(os.path.join(GEO_DIR, \"country-codes.csv\"))\n"
   ]
  },
  {
   "cell_type": "code",
   "execution_count": null,
   "metadata": {},
   "outputs": [],
   "source": [
    "def set_crs(gdf, epsg=27700):\n",
    "    \"\"\"Assigns the OSGB36 / British National Grid CRS to a GeoDataFrame\"\"\"\n",
    "    return gdf.set_crs(epsg=epsg, allow_override=True, inplace=True)\n",
    "\n",
    "\n",
    "def rename_columns(df):\n",
    "    \"\"\"Enforces CWUK standard field names\"\"\"\n",
    "    return (\n",
    "        df.rename(columns={\"geo_region\": \"name\"})\n",
    "        .drop(columns=[\"region\"])\n",
    "        .sort_values(by=\"name\", axis=0)\n",
    "        .reset_index(drop=True)\n",
    "    )\n",
    "\n",
    "\n",
    "uk = (\n",
    "    gpd.read_file(\n",
    "        os.path.join(\n",
    "            GEO_DIR, \"ukcp18-uk-land-country-united_kingdom-hires.geojson\"\n",
    "        ),\n",
    "        driver=\"GeoJSON\",\n",
    "    )\n",
    "    .pipe(set_crs)\n",
    "    .pipe(rename_columns)\n",
    "    .pipe((pd.merge, \"left\"), right=codes, on=\"name\")\n",
    ")\n",
    "countries = (\n",
    "    gpd.read_file(\n",
    "        os.path.join(GEO_DIR, \"ukcp18-uk-land-country-hires.geojson\"),\n",
    "        driver=\"GeoJSON\",\n",
    "    )\n",
    "    .pipe(set_crs)\n",
    "    .pipe(rename_columns)\n",
    "    .pipe((pd.merge, \"left\"), right=codes, on=\"name\")\n",
    ")\n",
    "regions = (\n",
    "    gpd.read_file(\n",
    "        os.path.join(GEO_DIR, \"ukcp18-uk-land-region-hires.geojson\"),\n",
    "        driver=\"GeoJSON\",\n",
    "    )\n",
    "    .pipe(set_crs)\n",
    "    .pipe(rename_columns)\n",
    "    .pipe((pd.merge, \"left\"), right=codes, on=\"name\")\n",
    ")\n"
   ]
  },
  {
   "cell_type": "markdown",
   "metadata": {},
   "source": [
    "# Parent IDs\n",
    "In the CWUK database, each spatial entity references its parent entity as a self-referential foreign key."
   ]
  },
  {
   "cell_type": "code",
   "execution_count": null,
   "metadata": {},
   "outputs": [],
   "source": [
    "def get_parent_id(child, parents):\n",
    "    \"\"\"Returns the id of the polygon that contains a point\"\"\"\n",
    "    point = gpd.points_from_xy(x=[child.x_coord], y=[child.y_coord])[0]\n",
    "    for parent in parents.itertuples():\n",
    "        if parent.id != child.id and parent.geometry.buffer(0).contains(point):\n",
    "            return parent.id\n",
    "    return \"null\"\n",
    "\n",
    "\n",
    "# The UK is the super-parent...\n",
    "uk[\"parentId\"] = \"null\"\n",
    "# Countries may or may not be in the UK (e.g. Channel Islands, Isle of Man etc...)\n",
    "countries[\"parentId\"] = countries.apply(\n",
    "    lambda row: get_parent_id(row, uk), axis=1\n",
    ")\n",
    "# Regions are with countries...\n",
    "regions[\"parentId\"] = regions.apply(\n",
    "    lambda row: get_parent_id(row, countries), axis=1\n",
    ")\n"
   ]
  },
  {
   "cell_type": "code",
   "execution_count": null,
   "metadata": {},
   "outputs": [],
   "source": []
  },
  {
   "cell_type": "code",
   "execution_count": null,
   "metadata": {},
   "outputs": [],
   "source": [
    "uk.to_file(os.path.join(OUT_DIR, \"uk.geojson\"), driver=\"GeoJSON\")\n",
    "uk.drop(columns=\"geometry\").to_csv(os.path.join(OUT_DIR, \"uk.csv\"), index=True)\n",
    "\n",
    "countries.to_file(os.path.join(OUT_DIR, \"country.geojson\"), driver=\"GeoJSON\")\n",
    "countries.drop(columns=\"geometry\").to_csv(\n",
    "    os.path.join(OUT_DIR, \"country.csv\"), index=True\n",
    ")\n",
    "\n",
    "regions.to_file(os.path.join(OUT_DIR, \"region.geojson\"), driver=\"GeoJSON\")\n",
    "regions.drop(columns=\"geometry\").to_csv(\n",
    "    os.path.join(OUT_DIR, \"region.csv\"), index=True\n",
    ")\n"
   ]
  }
 ],
 "metadata": {
  "kernelspec": {
   "display_name": "Python 3.10.6 ('climate-watch-uk')",
   "language": "python",
   "name": "python3"
  },
  "language_info": {
   "codemirror_mode": {
    "name": "ipython",
    "version": 3
   },
   "file_extension": ".py",
   "mimetype": "text/x-python",
   "name": "python",
   "nbconvert_exporter": "python",
   "pygments_lexer": "ipython3",
   "version": "3.10.6 | packaged by conda-forge | (main, Aug 22 2022, 20:36:39) [GCC 10.4.0]"
  },
  "orig_nbformat": 4,
  "vscode": {
   "interpreter": {
    "hash": "c854546abfe7675fb91040f7a9b26eea616d985cf4a026000aaaf57beb5b71ee"
   }
  }
 },
 "nbformat": 4,
 "nbformat_minor": 2
}
