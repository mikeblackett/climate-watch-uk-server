{
 "cells": [
  {
   "cell_type": "code",
   "execution_count": 1,
   "metadata": {},
   "outputs": [],
   "source": [
    "# Standard libraries\n",
    "import os\n",
    "\n",
    "# Third-party libraries\n",
    "import geopandas as gpd\n",
    "import pandas as pd\n"
   ]
  },
  {
   "cell_type": "code",
   "execution_count": 2,
   "metadata": {},
   "outputs": [],
   "source": [
    "# Paths\n",
    "DATA_DIR = os.path.join(os.getcwd(), \"data\")\n",
    "GEO_DIR = os.path.join(DATA_DIR, \"intermediate/spatial\")\n",
    "OUT_DIR = os.path.join(DATA_DIR, \"processed\")\n",
    "\n",
    "# Constants\n",
    "OSGB36 = 27700\n"
   ]
  },
  {
   "cell_type": "code",
   "execution_count": 3,
   "metadata": {},
   "outputs": [],
   "source": [
    "def format(df):\n",
    "    \"\"\"Rename some columns and drops some others\"\"\"\n",
    "    return (\n",
    "        df.rename(columns={\"geo_region\": \"name\", \"region\": \"id\"})\n",
    "        .sort_values(by=\"id\", axis=0)\n",
    "        .reset_index(drop=True)\n",
    "    )\n",
    "\n",
    "\n",
    "def read(fp):\n",
    "    \"\"\"Reads and prepares the geoJson\"\"\"\n",
    "    df = gpd.read_file(fp).pipe(format)\n",
    "    return df\n",
    "\n",
    "\n",
    "def save(df, file_name):\n",
    "    df.to_file(os.path.join(OUT_DIR, file_name + \"-geom.geojson\"), driver=\"GeoJSON\")\n",
    "    df.drop(columns=[\"x_coord\", \"y_coord\", \"geometry\"]).to_csv(os.path.join(OUT_DIR, file_name + \".csv\"), index=False)\n"
   ]
  },
  {
   "cell_type": "code",
   "execution_count": 5,
   "metadata": {},
   "outputs": [],
   "source": [
    "# Regions\n",
    "region_fp = os.path.join(GEO_DIR, \"ukcp18-uk-land-region-hires-osgb36.geojson\")\n",
    "region = read(region_fp)\n",
    "save(region, \"region\")\n"
   ]
  },
  {
   "cell_type": "code",
   "execution_count": 6,
   "metadata": {},
   "outputs": [],
   "source": [
    "# Countries\n",
    "country_fp = os.path.join(GEO_DIR, \"ukcp18-uk-land-country-hires-osgb36.geojson\")\n",
    "iso = pd.read_csv(os.path.join(GEO_DIR, \"iso-3166-2-gb.csv\"))\n",
    "country = read(country_fp).drop(columns=\"id\")\n",
    "country = pd.merge(country, iso, on=\"name\")\n",
    "save(country, \"country\")\n"
   ]
  }
 ],
 "metadata": {
  "kernelspec": {
   "display_name": "Python 3.10.6 ('climate-watch-uk')",
   "language": "python",
   "name": "python3"
  },
  "language_info": {
   "codemirror_mode": {
    "name": "ipython",
    "version": 3
   },
   "file_extension": ".py",
   "mimetype": "text/x-python",
   "name": "python",
   "nbconvert_exporter": "python",
   "pygments_lexer": "ipython3",
   "version": "3.10.6"
  },
  "orig_nbformat": 4,
  "vscode": {
   "interpreter": {
    "hash": "c854546abfe7675fb91040f7a9b26eea616d985cf4a026000aaaf57beb5b71ee"
   }
  }
 },
 "nbformat": 4,
 "nbformat_minor": 2
}
