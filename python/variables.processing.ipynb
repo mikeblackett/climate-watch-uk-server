{
  "cells": [
    {
      "cell_type": "code",
      "execution_count": null,
      "metadata": {},
      "outputs": [],
      "source": [
        "# Standard libraries\n",
        "import os\n",
        "\n",
        "# Third-party libraries\n",
        "import pandas as pd\n",
        "import xarray as xr\n",
        "\n",
        "# Local libraries\n",
        "from utilities import netcdf\n"
      ]
    },
    {
      "cell_type": "code",
      "execution_count": null,
      "metadata": {},
      "outputs": [],
      "source": [
        "# Paths\n",
        "DATA_DIR = os.path.join(os.getcwd(), \"data/intermediate/hadukgrid\")\n",
        "OUT_DIR = os.path.join(os.getcwd(), \"data/processed/variable\")\n"
      ]
    },
    {
      "cell_type": "code",
      "execution_count": null,
      "metadata": {},
      "outputs": [],
      "source": [
        "NC_FILES = netcdf.list_files(DATA_DIR, path=True)\n"
      ]
    },
    {
      "cell_type": "code",
      "execution_count": null,
      "metadata": {},
      "outputs": [],
      "source": [
        "names = {\n",
        "    \"groundfrost\": \"Frost\",\n",
        "    \"sun\": \"Sun\",\n",
        "    \"tas\": \"Temperature\",\n",
        "    \"snowLying\": \"Snow\",\n",
        "    \"tasmax\": \"Maximum temperature\",\n",
        "    \"hurs\": \"Humidity\",\n",
        "    \"rainfall\": \"Rain\",\n",
        "    \"sfcWind\": \"Wind\",\n",
        "    \"tasmin\": \"Minimum temperature\",\n",
        "}\n",
        "\n",
        "codes = {\n",
        "    \"groundfrost\": \"frost\",\n",
        "    \"sun\": \"sun\",\n",
        "    \"tas\": \"tas\",\n",
        "    \"snowLying\": \"snow\",\n",
        "    \"tasmax\": \"tasmax\",\n",
        "    \"hurs\": \"hurs\",\n",
        "    \"rainfall\": \"rain\",\n",
        "    \"sfcWind\": \"wind\",\n",
        "    \"tasmin\": \"tasmin\",\n",
        "}\n",
        "\n",
        "\n",
        "def get_attributes(data_array, to_drop=None):\n",
        "    \"\"\"\n",
        "    Returns a dict describing the attributes of a DataArray\n",
        "    Optionally, filters the attributes with to_drop\n",
        "    \"\"\"\n",
        "    assert isinstance(to_drop, list) or to_drop is None\n",
        "    assert isinstance(data_array, xr.DataArray)\n",
        "    attrs_dict = {}\n",
        "    for key, value in data_array.attrs.items():\n",
        "        if key not in to_drop:\n",
        "            attrs_dict[key] = value\n",
        "    attrs_dict[\"id\"] = data_array.name\n",
        "    attrs_dict[\"name\"] = names[data_array.name]\n",
        "    return attrs_dict\n"
      ]
    },
    {
      "cell_type": "code",
      "execution_count": null,
      "metadata": {},
      "outputs": [],
      "source": [
        "rows_list = []\n",
        "for path in NC_FILES:\n",
        "    with xr.open_dataarray(path, decode_coords=\"all\", chunks=\"auto\") as da:\n",
        "        attrs_dict = get_attributes(\n",
        "            da, to_drop=[\"units\", \"cell_methods\", \"level\", \"standard_name\"]\n",
        "        )\n",
        "        rows_list.append(attrs_dict)\n",
        "df = pd.DataFrame(rows_list)\n",
        "df\n"
      ]
    },
    {
      "cell_type": "code",
      "execution_count": null,
      "metadata": {},
      "outputs": [],
      "source": [
        "df = (\n",
        "    df.rename(\n",
        "        columns={\n",
        "            \"description\": \"longName\",\n",
        "            \"long_name\": \"description\",\n",
        "            \"label_units\": \"units\",\n",
        "            \"plot_label\": \"label\",\n",
        "        }\n",
        "    )\n",
        "    .sort_values(\"name\")\n",
        "    .reset_index(drop=True)\n",
        ")\n",
        "\n",
        "df\n"
      ]
    },
    {
      "cell_type": "code",
      "execution_count": null,
      "metadata": {},
      "outputs": [],
      "source": [
        "df.to_csv(os.path.join(OUT_DIR, \"variable.csv\"), index=False)\n"
      ]
    }
  ],
  "metadata": {
    "kernelspec": {
      "display_name": "Python 3.10.6 ('climate-watch-uk')",
      "language": "python",
      "name": "python3"
    },
    "language_info": {
      "codemirror_mode": {
        "name": "ipython",
        "version": 3
      },
      "file_extension": ".py",
      "mimetype": "text/x-python",
      "name": "python",
      "nbconvert_exporter": "python",
      "pygments_lexer": "ipython3",
      "version": "3.10.6 | packaged by conda-forge | (main, Aug 22 2022, 20:36:39) [GCC 10.4.0]"
    },
    "orig_nbformat": 4,
    "vscode": {
      "interpreter": {
        "hash": "c854546abfe7675fb91040f7a9b26eea616d985cf4a026000aaaf57beb5b71ee"
      }
    }
  },
  "nbformat": 4,
  "nbformat_minor": 2
}
