{
 "cells": [
  {
   "cell_type": "markdown",
   "metadata": {},
   "source": [
    "# HadUK-Grid pre-processing \n",
    "The HadUK-Grid data from the CEDA Data Catalogue are available as single netCDF files for each year-month-variable combination.\n",
    "This script merges these files to produce a single netCDF file for each climatic variable"
   ]
  },
  {
   "cell_type": "code",
   "execution_count": null,
   "metadata": {},
   "outputs": [],
   "source": [
    "# Standard libraries\n",
    "import datetime as dt\n",
    "import os\n",
    "\n",
    "# Third-party libraries\n",
    "import xarray as xr"
   ]
  },
  {
   "cell_type": "code",
   "execution_count": null,
   "metadata": {},
   "outputs": [],
   "source": [
    "# Constants\n",
    "DATA_DIR = os.path.join(os.getcwd(), 'data')\n",
    "OUTPUT_DIR = os.path.join(DATA_DIR, 'intermediate')\n",
    "HAD_DIR = os.path.join(DATA_DIR, 'external/observations/ceda')\n",
    "\n",
    "PARAMETER_NAMES = []\n",
    "for path in os.listdir(HAD_DIR):\n",
    "  if os.path.isdir(os.path.join(HAD_DIR, path)):\n",
    "    PARAMETER_NAMES.append(path)"
   ]
  },
  {
   "cell_type": "code",
   "execution_count": null,
   "metadata": {},
   "outputs": [],
   "source": [
    "# Load, merge, and write to disk\n",
    "PARAMETER_NAMES\n",
    "for param in PARAMETER_NAMES:\n",
    "  ds = xr.open_mfdataset(os.path.join(HAD_DIR, param, '*.nc'), parallel=True, decode_coords=\"all\", chunks='auto')\n",
    "  ds.to_netcdf(os.path.join(OUTPUT_DIR, param + '-hadgriduk-1km.nc'))\n",
    "  ds.close()"
   ]
  },
  {
   "cell_type": "code",
   "execution_count": null,
   "metadata": {},
   "outputs": [],
   "source": [
    "# Merge the temperature-related variables\n",
    "tempParams = ['tas', 'tasmin', 'tasmax']\n",
    "tempFiles = []\n",
    "for temp in tempParams:\n",
    "  tempFiles.append(os.path.join(OUTPUT_DIR, temp + '-hadgriduk-1km.nc')) \n",
    "dsTemp = xr.open_mfdataset(tempFiles, parallel=True, decode_coords=\"all\", chunks='auto')\n",
    "dsTemp.to_netcdf(os.path.join(OUTPUT_DIR, 'tas-tasmin-tasmax-hadgriduk-1km.nc'), engine='netcdf4')\n",
    "dsTemp.close()"
   ]
  }
 ],
 "metadata": {
  "kernelspec": {
   "display_name": "Python 3.10.6 ('climate-watch-uk')",
   "language": "python",
   "name": "python3"
  },
  "language_info": {
   "codemirror_mode": {
    "name": "ipython",
    "version": 3
   },
   "file_extension": ".py",
   "mimetype": "text/x-python",
   "name": "python",
   "nbconvert_exporter": "python",
   "pygments_lexer": "ipython3",
   "version": "3.10.6"
  },
  "orig_nbformat": 4,
  "vscode": {
   "interpreter": {
    "hash": "c854546abfe7675fb91040f7a9b26eea616d985cf4a026000aaaf57beb5b71ee"
   }
  }
 },
 "nbformat": 4,
 "nbformat_minor": 2
}
