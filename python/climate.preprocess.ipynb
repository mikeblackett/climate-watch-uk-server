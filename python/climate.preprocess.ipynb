{
  "cells": [
    {
      "cell_type": "code",
      "execution_count": null,
      "metadata": {},
      "outputs": [],
      "source": [
        "# Standard libraries\n",
        "import os\n",
        "\n",
        "# Third-party libraries\n",
        "import xarray as xr\n",
        "\n",
        "# Local libraries\n",
        "from utilities import netcdf\n",
        "\n",
        "# Constants\n",
        "DATA_DIR = os.path.join(os.getcwd(), \"data\")\n",
        "IN_DIR = os.path.join(DATA_DIR, \"external/observations/ceda\")\n",
        "OUT_DIR = os.path.join(DATA_DIR, \"intermediate\")\n",
        "\n",
        "# Directory names are the parameter names\n",
        "params = os.listdir(IN_DIR)\n",
        "\n",
        "# For each parameter, load the annual .nc files into a single xarray DataSet and write to disk\n",
        "# !!! This writes LARGE data ~170GB !!!\n",
        "for param in params:\n",
        "    file_paths = netcdf.list_files(os.path.join(IN_DIR, param), path=True)\n",
        "    with xr.open_mfdataset(\n",
        "        file_paths, parallel=True, decode_coords=\"all\", chunks=\"auto\"\n",
        "    ) as ds:\n",
        "        ds.to_netcdf(os.path.join(OUT_DIR, param + \"-hadgriduk-1km.nc\"))\n"
      ]
    }
  ],
  "metadata": {
    "kernelspec": {
      "display_name": "Python 3.10.6 ('climate-watch-uk')",
      "language": "python",
      "name": "python3"
    },
    "language_info": {
      "codemirror_mode": {
        "name": "ipython",
        "version": 3
      },
      "file_extension": ".py",
      "mimetype": "text/x-python",
      "name": "python",
      "nbconvert_exporter": "python",
      "pygments_lexer": "ipython3",
      "version": "3.10.6"
    },
    "orig_nbformat": 4,
    "vscode": {
      "interpreter": {
        "hash": "c854546abfe7675fb91040f7a9b26eea616d985cf4a026000aaaf57beb5b71ee"
      }
    }
  },
  "nbformat": 4,
  "nbformat_minor": 2
}
