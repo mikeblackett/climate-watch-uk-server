{
 "cells": [
  {
   "cell_type": "code",
   "execution_count": 1,
   "metadata": {},
   "outputs": [],
   "source": [
    "# Standard libraries\n",
    "import datetime as dt\n",
    "import os\n",
    "\n",
    "# Third-party libraries\n",
    "import geopandas as gpd\n",
    "import matplotlib.pyplot as plt\n",
    "import numpy as np\n",
    "import pandas as pd\n",
    "import rioxarray\n",
    "import xarray as xr\n",
    "import matplotlib.pyplot as plt\n",
    "\n",
    "# Local libraries\n",
    "from utilities import netcdf\n"
   ]
  },
  {
   "cell_type": "code",
   "execution_count": 2,
   "metadata": {},
   "outputs": [],
   "source": [
    "# Constants\n",
    "ROOT_DIR = os.path.join(os.getcwd(), \"data\")\n",
    "HAD_DIR = os.path.join(ROOT_DIR, \"intermediate/hadukgrid\")\n",
    "GEO_DIR = os.path.join(ROOT_DIR, \"processed/space\")\n",
    "VAR_DIR = os.path.join(ROOT_DIR, \"processed/variable\")\n",
    "OUT_DIR = os.path.join(ROOT_DIR, \"processed/climate\")\n"
   ]
  },
  {
   "cell_type": "code",
   "execution_count": 3,
   "metadata": {},
   "outputs": [
    {
     "data": {
      "text/plain": [
       "'/home/mikeblackett/Documents/Dev/climate-watch-uk-server/python/data/intermediate/hadukgrid/groundfrost-hadgriduk-1km.nc'"
      ]
     },
     "execution_count": 3,
     "metadata": {},
     "output_type": "execute_result"
    }
   ],
   "source": [
    "# Climate data\n",
    "NC_FILES = netcdf.list_files(HAD_DIR, path=True)\n",
    "NC_FILES[0]\n"
   ]
  },
  {
   "cell_type": "code",
   "execution_count": 4,
   "metadata": {},
   "outputs": [],
   "source": [
    "# Spatial data\n",
    "uk = gpd.read_file(os.path.join(GEO_DIR, \"uk.geojson\"))\n",
    "countries = gpd.read_file(os.path.join(GEO_DIR, \"country.geojson\"))\n",
    "regions = gpd.read_file(os.path.join(GEO_DIR, \"region.geojson\"))\n",
    "\n",
    "space = pd.concat([uk, countries, regions]).drop_duplicates(\"id\")\n"
   ]
  },
  {
   "cell_type": "code",
   "execution_count": 5,
   "metadata": {},
   "outputs": [],
   "source": [
    "def create_mask(gdf, ds, data_var):\n",
    "    \"\"\"Returns a data array with sizes equal to `ds`\"\"\"\n",
    "    mask_da = xr.ones_like(ds[data_var].isel({\"time\": 0}))\n",
    "    mask_da.name = \"mask\"\n",
    "    mask_da = mask_da.rio.write_crs(ds.rio.crs)\n",
    "\n",
    "    return xr.concat(\n",
    "        [\n",
    "            (mask_da.rio.clip([item.geometry], drop=False) == 1).expand_dims(\n",
    "                dim={\"space\": [item.id]}\n",
    "            )\n",
    "            for item in gdf.itertuples()\n",
    "        ],\n",
    "        dim=\"space\",\n",
    "    )\n"
   ]
  },
  {
   "cell_type": "code",
   "execution_count": 6,
   "metadata": {},
   "outputs": [],
   "source": [
    "def calc_spatial_mean(ds, mask, dims):\n",
    "    return ds.where(mask).mean(dims)\n"
   ]
  },
  {
   "cell_type": "code",
   "execution_count": 7,
   "metadata": {},
   "outputs": [],
   "source": [
    "def to_table(ds, data_var):\n",
    "    df = (\n",
    "        ds[data_var]\n",
    "        .to_dataframe()[data_var]\n",
    "        .reset_index()\n",
    "        .rename(\n",
    "            columns={data_var: \"value\", \"time\": \"timeId\", \"space\": \"spaceId\"}\n",
    "        )\n",
    "    )\n",
    "    df[\"timeId\"] = df.apply(\n",
    "        lambda row: int(row.timeId.date().strftime(\"%Y%m\")), axis=1\n",
    "    )\n",
    "    df.insert(loc=0, column=\"variableId\", value=[data_var] * len(df))\n",
    "    return df\n"
   ]
  },
  {
   "cell_type": "code",
   "execution_count": 8,
   "metadata": {},
   "outputs": [],
   "source": [
    "Y_COORD = \"projection_y_coordinate\"\n",
    "X_COORD = \"projection_x_coordinate\"\n",
    "\n",
    "for fp in NC_FILES:\n",
    "    with xr.open_dataset(fp, decode_coords=\"all\", chunks=\"auto\") as ds:\n",
    "        DATA_VAR = list(ds.data_vars)[0]\n",
    "        mask = create_mask(space, ds, DATA_VAR)\n",
    "        mean = calc_spatial_mean(ds, mask, [X_COORD, Y_COORD])\n",
    "        df = to_table(mean, DATA_VAR)\n",
    "        df.to_csv(os.path.join(OUT_DIR, DATA_VAR + \".csv\"), index=True)\n"
   ]
  }
 ],
 "metadata": {
  "kernelspec": {
   "display_name": "Python 3.10.6 ('climate-watch-uk')",
   "language": "python",
   "name": "python3"
  },
  "language_info": {
   "codemirror_mode": {
    "name": "ipython",
    "version": 3
   },
   "file_extension": ".py",
   "mimetype": "text/x-python",
   "name": "python",
   "nbconvert_exporter": "python",
   "pygments_lexer": "ipython3",
   "version": "3.10.6 | packaged by conda-forge | (main, Aug 22 2022, 20:36:39) [GCC 10.4.0]"
  },
  "orig_nbformat": 4,
  "vscode": {
   "interpreter": {
    "hash": "c854546abfe7675fb91040f7a9b26eea616d985cf4a026000aaaf57beb5b71ee"
   }
  }
 },
 "nbformat": 4,
 "nbformat_minor": 2
}
