{
  "cells": [
    {
      "cell_type": "code",
      "execution_count": 20,
      "metadata": {},
      "outputs": [],
      "source": [
        "# Standard libraries\n",
        "import os\n",
        "\n",
        "# Third-party libraries\n",
        "import pandas as pd\n",
        "import numpy as np\n",
        "import xarray as xr\n",
        "\n",
        "# Local libraries\n",
        "from utilities import netcdf\n"
      ]
    },
    {
      "cell_type": "code",
      "execution_count": 2,
      "metadata": {},
      "outputs": [],
      "source": [
        "# Paths\n",
        "DATA_DIR = os.path.join(os.getcwd(), \"data/intermediate/hadukgrid\")\n",
        "OUT_DIR = os.path.join(os.getcwd(), \"data/processed/variable\")\n"
      ]
    },
    {
      "cell_type": "code",
      "execution_count": 4,
      "metadata": {},
      "outputs": [],
      "source": [
        "NC_FILES = netcdf.list_files(DATA_DIR, path=True)\n"
      ]
    },
    {
      "cell_type": "code",
      "execution_count": 39,
      "metadata": {},
      "outputs": [
        {
          "data": {
            "text/plain": [
              "numpy.datetime64('1836-01-16T00:00:00.000000000')"
            ]
          },
          "execution_count": 39,
          "metadata": {},
          "output_type": "execute_result"
        }
      ],
      "source": [
        "startTimes = []\n",
        "endTimes = []\n",
        "for path in NC_FILES:\n",
        "    da = xr.open_dataarray(path, decode_coords=\"all\", chunks=\"auto\")\n",
        "    startTimes.append(da.coords[\"time\"].min().values)\n",
        "    endTimes.append(da.coords[\"time\"].max().values)\n",
        "    da.close()\n",
        "firstTime = min(startTimes)\n",
        "lastTime = max(endTimes)\n"
      ]
    },
    {
      "cell_type": "code",
      "execution_count": 51,
      "metadata": {},
      "outputs": [
        {
          "data": {
            "text/html": [
              "<div>\n",
              "<style scoped>\n",
              "    .dataframe tbody tr th:only-of-type {\n",
              "        vertical-align: middle;\n",
              "    }\n",
              "\n",
              "    .dataframe tbody tr th {\n",
              "        vertical-align: top;\n",
              "    }\n",
              "\n",
              "    .dataframe thead th {\n",
              "        text-align: right;\n",
              "    }\n",
              "</style>\n",
              "<table border=\"1\" class=\"dataframe\">\n",
              "  <thead>\n",
              "    <tr style=\"text-align: right;\">\n",
              "      <th></th>\n",
              "      <th>date</th>\n",
              "      <th>monthNumber</th>\n",
              "      <th>seasonYear</th>\n",
              "    </tr>\n",
              "  </thead>\n",
              "  <tbody>\n",
              "    <tr>\n",
              "      <th>0</th>\n",
              "      <td>1836-01-16</td>\n",
              "      <td>1</td>\n",
              "      <td>1836</td>\n",
              "    </tr>\n",
              "    <tr>\n",
              "      <th>1</th>\n",
              "      <td>1836-02-16</td>\n",
              "      <td>2</td>\n",
              "      <td>1836</td>\n",
              "    </tr>\n",
              "    <tr>\n",
              "      <th>2</th>\n",
              "      <td>1836-03-16</td>\n",
              "      <td>3</td>\n",
              "      <td>1836</td>\n",
              "    </tr>\n",
              "    <tr>\n",
              "      <th>3</th>\n",
              "      <td>1836-04-16</td>\n",
              "      <td>4</td>\n",
              "      <td>1836</td>\n",
              "    </tr>\n",
              "    <tr>\n",
              "      <th>4</th>\n",
              "      <td>1836-05-16</td>\n",
              "      <td>5</td>\n",
              "      <td>1836</td>\n",
              "    </tr>\n",
              "    <tr>\n",
              "      <th>...</th>\n",
              "      <td>...</td>\n",
              "      <td>...</td>\n",
              "      <td>...</td>\n",
              "    </tr>\n",
              "    <tr>\n",
              "      <th>2227</th>\n",
              "      <td>2021-08-16</td>\n",
              "      <td>8</td>\n",
              "      <td>2021</td>\n",
              "    </tr>\n",
              "    <tr>\n",
              "      <th>2228</th>\n",
              "      <td>2021-09-16</td>\n",
              "      <td>9</td>\n",
              "      <td>2021</td>\n",
              "    </tr>\n",
              "    <tr>\n",
              "      <th>2229</th>\n",
              "      <td>2021-10-16</td>\n",
              "      <td>10</td>\n",
              "      <td>2021</td>\n",
              "    </tr>\n",
              "    <tr>\n",
              "      <th>2230</th>\n",
              "      <td>2021-11-16</td>\n",
              "      <td>11</td>\n",
              "      <td>2021</td>\n",
              "    </tr>\n",
              "    <tr>\n",
              "      <th>2231</th>\n",
              "      <td>2021-12-16</td>\n",
              "      <td>12</td>\n",
              "      <td>2022</td>\n",
              "    </tr>\n",
              "  </tbody>\n",
              "</table>\n",
              "<p>2232 rows × 3 columns</p>\n",
              "</div>"
            ],
            "text/plain": [
              "           date  monthNumber  seasonYear\n",
              "0    1836-01-16            1        1836\n",
              "1    1836-02-16            2        1836\n",
              "2    1836-03-16            3        1836\n",
              "3    1836-04-16            4        1836\n",
              "4    1836-05-16            5        1836\n",
              "...         ...          ...         ...\n",
              "2227 2021-08-16            8        2021\n",
              "2228 2021-09-16            9        2021\n",
              "2229 2021-10-16           10        2021\n",
              "2230 2021-11-16           11        2021\n",
              "2231 2021-12-16           12        2022\n",
              "\n",
              "[2232 rows x 3 columns]"
            ]
          },
          "execution_count": 51,
          "metadata": {},
          "output_type": "execute_result"
        }
      ],
      "source": [
        "def get_season_month(row):\n",
        "  year  = row[0].year\n",
        "  month  = row[0].month\n",
        "  if month == 12:\n",
        "    return year + 1\n",
        "  return year\n",
        "  print(row[0].month)\n",
        "df = pd.DataFrame({\"date\": pd.date_range(start=firstTime, end=lastTime, freq=pd.DateOffset(months=1), inclusive=\"both\")})\n",
        "df['monthNumber'] = df.apply(lambda row: row[0].month, axis=1)\n",
        "df['seasonYear'] = df.apply(lambda row: get_season_month(row), axis=1)\n",
        "df"
      ]
    }
  ],
  "metadata": {
    "kernelspec": {
      "display_name": "Python 3.10.6 ('climate-watch-uk')",
      "language": "python",
      "name": "python3"
    },
    "language_info": {
      "codemirror_mode": {
        "name": "ipython",
        "version": 3
      },
      "file_extension": ".py",
      "mimetype": "text/x-python",
      "name": "python",
      "nbconvert_exporter": "python",
      "pygments_lexer": "ipython3",
      "version": "3.10.6"
    },
    "orig_nbformat": 4,
    "vscode": {
      "interpreter": {
        "hash": "c854546abfe7675fb91040f7a9b26eea616d985cf4a026000aaaf57beb5b71ee"
      }
    }
  },
  "nbformat": 4,
  "nbformat_minor": 2
}
