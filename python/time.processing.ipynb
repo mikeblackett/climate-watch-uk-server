{
  "cells": [
    {
      "cell_type": "code",
      "execution_count": 10,
      "metadata": {},
      "outputs": [],
      "source": [
        "# Standard libraries\n",
        "import os\n",
        "\n",
        "# Third-party libraries\n",
        "import pandas as pd\n",
        "import numpy as np\n",
        "import xarray as xr\n",
        "\n",
        "# Local libraries\n",
        "from utilities import netcdf\n"
      ]
    },
    {
      "cell_type": "code",
      "execution_count": 11,
      "metadata": {},
      "outputs": [],
      "source": [
        "# Paths\n",
        "DATA_DIR = os.path.join(os.getcwd(), \"data/intermediate/hadukgrid\")\n",
        "OUT_DIR = os.path.join(os.getcwd(), \"data/processed/time\")\n"
      ]
    },
    {
      "cell_type": "code",
      "execution_count": 12,
      "metadata": {},
      "outputs": [],
      "source": [
        "NC_FILES = netcdf.list_files(DATA_DIR, path=True)\n"
      ]
    },
    {
      "cell_type": "code",
      "execution_count": 13,
      "metadata": {},
      "outputs": [],
      "source": [
        "startTimes = []\n",
        "endTimes = []\n",
        "for path in NC_FILES:\n",
        "    with xr.open_dataarray(path, decode_coords=\"all\", chunks=\"auto\") as da:\n",
        "        startTimes.append(da.coords[\"time\"].min().values)\n",
        "        endTimes.append(da.coords[\"time\"].max().values)\n",
        "firstTime = min(startTimes)\n",
        "lastTime = max(endTimes)\n"
      ]
    },
    {
      "cell_type": "code",
      "execution_count": 14,
      "metadata": {},
      "outputs": [
        {
          "data": {
            "text/plain": [
              "0      1836-01-16\n",
              "1      1836-02-16\n",
              "2      1836-03-16\n",
              "3      1836-04-16\n",
              "4      1836-05-16\n",
              "          ...    \n",
              "2227   2021-08-16\n",
              "2228   2021-09-16\n",
              "2229   2021-10-16\n",
              "2230   2021-11-16\n",
              "2231   2021-12-16\n",
              "Name: date, Length: 2232, dtype: datetime64[ns]"
            ]
          },
          "execution_count": 14,
          "metadata": {},
          "output_type": "execute_result"
        }
      ],
      "source": [
        "def get_season_month(datetime):\n",
        "    year = datetime.year\n",
        "    month = datetime.month\n",
        "    if month == 12:\n",
        "        return year + 1\n",
        "    return year\n",
        "\n",
        "\n",
        "def get_time_id(datetime):\n",
        "    return datetime.date().strftime(\"%Y%m\")\n",
        "\n",
        "\n",
        "def get_month(datetime):\n",
        "    return datetime.month\n",
        "\n",
        "\n",
        "df = pd.DataFrame(\n",
        "    {\n",
        "        \"date\": pd.date_range(\n",
        "            start=firstTime,\n",
        "            end=lastTime,\n",
        "            freq=pd.DateOffset(months=1),\n",
        "            inclusive=\"both\",\n",
        "        )\n",
        "    }\n",
        ")\n",
        "df[\"month_number\"] = df.apply(lambda row: get_month(row.date), axis=1)\n",
        "df[\"year\"] = df.apply(lambda row: row.date.year, axis=1)\n",
        "df[\"season_year\"] = df.apply(lambda row: get_season_month(row.date), axis=1)\n",
        "df[\"id\"] = df.apply(lambda row: get_time_id(row.date), axis=1)\n",
        "df"
      ]
    },
    {
      "cell_type": "code",
      "execution_count": 15,
      "metadata": {},
      "outputs": [],
      "source": [
        "df.to_csv(os.path.join(OUT_DIR, \"time.csv\"), index=False)\n"
      ]
    }
  ],
  "metadata": {
    "kernelspec": {
      "display_name": "Python 3.10.6 ('climate-watch-uk')",
      "language": "python",
      "name": "python3"
    },
    "language_info": {
      "codemirror_mode": {
        "name": "ipython",
        "version": 3
      },
      "file_extension": ".py",
      "mimetype": "text/x-python",
      "name": "python",
      "nbconvert_exporter": "python",
      "pygments_lexer": "ipython3",
      "version": "3.10.6"
    },
    "orig_nbformat": 4,
    "vscode": {
      "interpreter": {
        "hash": "c854546abfe7675fb91040f7a9b26eea616d985cf4a026000aaaf57beb5b71ee"
      }
    }
  },
  "nbformat": 4,
  "nbformat_minor": 2
}
