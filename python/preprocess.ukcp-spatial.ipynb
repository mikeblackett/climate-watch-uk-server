{
 "cells": [
  {
   "cell_type": "code",
   "execution_count": 1,
   "metadata": {},
   "outputs": [],
   "source": [
    "# Standard libraries\n",
    "import os\n",
    "\n",
    "# Third-party libraries\n",
    "import geopandas as gpd"
   ]
  },
  {
   "cell_type": "code",
   "execution_count": 2,
   "metadata": {},
   "outputs": [],
   "source": [
    "DATA_DIR = os.path.join(os.getcwd(), \"data\")\n",
    "GEO_DIR = os.path.join(DATA_DIR, \"external/spatial\")\n",
    "OUT_DIR = os.path.join(DATA_DIR, \"intermediate/spatial\")\n",
    "OSGB36 = 27700"
   ]
  },
  {
   "cell_type": "code",
   "execution_count": 3,
   "metadata": {},
   "outputs": [],
   "source": [
    "def set_crs(gdf):\n",
    "    \"\"\"Assigns the OSGB36 / British National Grid CRS to a GeoDataFrame\"\"\"\n",
    "    return gdf.set_crs(epsg=OSGB36, allow_override=True, inplace=True)\n"
   ]
  },
  {
   "cell_type": "code",
   "execution_count": 5,
   "metadata": {},
   "outputs": [],
   "source": [
    "countries = gpd.read_file(os.path.join(GEO_DIR, \"ukcp18-uk-land-country-hires.geojson\")).pipe(set_crs)\n",
    "regions = gpd.read_file(os.path.join(GEO_DIR, \"ukcp18-uk-land-region-hires.geojson\")).pipe(set_crs)\n",
    "countries.to_file(os.path.join(OUT_DIR, \"ukcp18-uk-land-country-hires-osgb36.geojson\"), driver=\"GeoJSON\")\n",
    "regions.to_file(os.path.join(OUT_DIR, \"ukcp18-uk-land-region-hires-osgb36.geojson\"), driver=\"GeoJSON\")\n"
   ]
  }
 ],
 "metadata": {
  "kernelspec": {
   "display_name": "Python 3.10.6 ('climate-watch-uk')",
   "language": "python",
   "name": "python3"
  },
  "language_info": {
   "codemirror_mode": {
    "name": "ipython",
    "version": 3
   },
   "file_extension": ".py",
   "mimetype": "text/x-python",
   "name": "python",
   "nbconvert_exporter": "python",
   "pygments_lexer": "ipython3",
   "version": "3.10.6"
  },
  "orig_nbformat": 4,
  "vscode": {
   "interpreter": {
    "hash": "c854546abfe7675fb91040f7a9b26eea616d985cf4a026000aaaf57beb5b71ee"
   }
  }
 },
 "nbformat": 4,
 "nbformat_minor": 2
}
