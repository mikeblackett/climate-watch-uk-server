{
 "cells": [
  {
   "cell_type": "code",
   "execution_count": 1,
   "metadata": {},
   "outputs": [],
   "source": [
    "# Standard libraries\n",
    "import datetime as dt\n",
    "import os\n",
    "\n",
    "# Third-party libraries\n",
    "import pandas as pd\n",
    "import xarray as xr\n"
   ]
  },
  {
   "cell_type": "code",
   "execution_count": 2,
   "metadata": {},
   "outputs": [],
   "source": [
    "# Paths\n",
    "DATA_DIR = os.path.join(os.getcwd(), \"data/intermediate/hadukgrid\")\n",
    "OUT_DIR = os.path.join(os.getcwd(), \"data/processed\")\n"
   ]
  },
  {
   "cell_type": "code",
   "execution_count": 3,
   "metadata": {},
   "outputs": [],
   "source": [
    "NC_FILES = []\n",
    "PARAMETERS = []\n",
    "for path in os.listdir(DATA_DIR):\n",
    "    if os.path.isfile(os.path.join(DATA_DIR, path)):\n",
    "        NC_FILES.append(path)\n",
    "        PARAMETERS.append(path[0 : path.find(\"-\")])\n"
   ]
  },
  {
   "cell_type": "code",
   "execution_count": 4,
   "metadata": {},
   "outputs": [
    {
     "data": {
      "text/plain": [
       "'groundfrost'"
      ]
     },
     "execution_count": 4,
     "metadata": {},
     "output_type": "execute_result"
    }
   ],
   "source": [
    "fp = os.path.join(DATA_DIR, NC_FILES[0])\n",
    "ds = xr.open_dataarray(fp, decode_coords=\"all\", chunks=\"auto\")\n",
    "ds.name"
   ]
  },
  {
   "cell_type": "code",
   "execution_count": 9,
   "metadata": {},
   "outputs": [
    {
     "data": {
      "text/html": [
       "<div>\n",
       "<style scoped>\n",
       "    .dataframe tbody tr th:only-of-type {\n",
       "        vertical-align: middle;\n",
       "    }\n",
       "\n",
       "    .dataframe tbody tr th {\n",
       "        vertical-align: top;\n",
       "    }\n",
       "\n",
       "    .dataframe thead th {\n",
       "        text-align: right;\n",
       "    }\n",
       "</style>\n",
       "<table border=\"1\" class=\"dataframe\">\n",
       "  <thead>\n",
       "    <tr style=\"text-align: right;\">\n",
       "      <th></th>\n",
       "      <th>description</th>\n",
       "      <th>longName</th>\n",
       "      <th>units</th>\n",
       "      <th>label</th>\n",
       "      <th>name</th>\n",
       "    </tr>\n",
       "  </thead>\n",
       "  <tbody>\n",
       "    <tr>\n",
       "      <th>0</th>\n",
       "      <td>Number of days with ground frost (minimum gras...</td>\n",
       "      <td>Days with ground frost</td>\n",
       "      <td>days</td>\n",
       "      <td>Ground frost (days)</td>\n",
       "      <td>groundfrost</td>\n",
       "    </tr>\n",
       "    <tr>\n",
       "      <th>5</th>\n",
       "      <td>Relative humidity</td>\n",
       "      <td>Relative humidity</td>\n",
       "      <td>%</td>\n",
       "      <td>Relative humidity at 1.5m (%)</td>\n",
       "      <td>hurs</td>\n",
       "    </tr>\n",
       "    <tr>\n",
       "      <th>6</th>\n",
       "      <td>Total precipitation amount</td>\n",
       "      <td>Total rainfall</td>\n",
       "      <td>mm</td>\n",
       "      <td>Total rainfall (mm)</td>\n",
       "      <td>rainfall</td>\n",
       "    </tr>\n",
       "    <tr>\n",
       "      <th>7</th>\n",
       "      <td>Wind speed at 10m</td>\n",
       "      <td>Wind speed</td>\n",
       "      <td>m s-1</td>\n",
       "      <td>Wind speed at 10m (m s-1)</td>\n",
       "      <td>sfcWind</td>\n",
       "    </tr>\n",
       "    <tr>\n",
       "      <th>3</th>\n",
       "      <td>Number of days with snow lying at 0900</td>\n",
       "      <td>Snow lying</td>\n",
       "      <td>days</td>\n",
       "      <td>Snow lying (days)</td>\n",
       "      <td>snowLying</td>\n",
       "    </tr>\n",
       "    <tr>\n",
       "      <th>1</th>\n",
       "      <td>Sunshine hours</td>\n",
       "      <td>Sunshine hours</td>\n",
       "      <td>h</td>\n",
       "      <td>Sunshine hours (h)</td>\n",
       "      <td>sun</td>\n",
       "    </tr>\n",
       "    <tr>\n",
       "      <th>2</th>\n",
       "      <td>Mean air temperature</td>\n",
       "      <td>Mean air temperature</td>\n",
       "      <td>C</td>\n",
       "      <td>Mean air temperature at 1.5m (C)</td>\n",
       "      <td>tas</td>\n",
       "    </tr>\n",
       "    <tr>\n",
       "      <th>4</th>\n",
       "      <td>Maximum air temperature</td>\n",
       "      <td>Maximum air temperature</td>\n",
       "      <td>C</td>\n",
       "      <td>Maximum air temperature at 1.5m (C)</td>\n",
       "      <td>tasmax</td>\n",
       "    </tr>\n",
       "    <tr>\n",
       "      <th>8</th>\n",
       "      <td>Minimum air temperature</td>\n",
       "      <td>Minimum air temperature</td>\n",
       "      <td>C</td>\n",
       "      <td>Minimum air temperature at 1.5m (C)</td>\n",
       "      <td>tasmin</td>\n",
       "    </tr>\n",
       "  </tbody>\n",
       "</table>\n",
       "</div>"
      ],
      "text/plain": [
       "                                         description                 longName  \\\n",
       "0  Number of days with ground frost (minimum gras...   Days with ground frost   \n",
       "5                                  Relative humidity        Relative humidity   \n",
       "6                         Total precipitation amount           Total rainfall   \n",
       "7                                  Wind speed at 10m               Wind speed   \n",
       "3             Number of days with snow lying at 0900               Snow lying   \n",
       "1                                     Sunshine hours           Sunshine hours   \n",
       "2                               Mean air temperature     Mean air temperature   \n",
       "4                            Maximum air temperature  Maximum air temperature   \n",
       "8                            Minimum air temperature  Minimum air temperature   \n",
       "\n",
       "   units                                label         name  \n",
       "0   days                  Ground frost (days)  groundfrost  \n",
       "5      %        Relative humidity at 1.5m (%)         hurs  \n",
       "6     mm                  Total rainfall (mm)     rainfall  \n",
       "7  m s-1            Wind speed at 10m (m s-1)      sfcWind  \n",
       "3   days                    Snow lying (days)    snowLying  \n",
       "1      h                   Sunshine hours (h)          sun  \n",
       "2      C     Mean air temperature at 1.5m (C)          tas  \n",
       "4      C  Maximum air temperature at 1.5m (C)       tasmax  \n",
       "8      C  Minimum air temperature at 1.5m (C)       tasmin  "
      ]
     },
     "execution_count": 9,
     "metadata": {},
     "output_type": "execute_result"
    }
   ],
   "source": [
    "rows_list = []\n",
    "for index, file in enumerate(NC_FILES):\n",
    "    fp = os.path.join(DATA_DIR, NC_FILES[index])\n",
    "    ds = xr.open_dataarray(fp, decode_coords=\"all\", chunks=\"auto\")\n",
    "    dict1 = {}\n",
    "    dict1.update(ds.attrs)\n",
    "    dict1['name'] = ds.name\n",
    "    rows_list.append(dict1)\n",
    "    ds.close()\n",
    "df = pd.DataFrame(rows_list)               \n",
    "df = df.drop(columns=[\"units\", \"cell_methods\", \"level\", \"standard_name\"]).rename(\n",
    "    columns={\"description\": \"longName\", \"long_name\": \"description\", \"label_units\": \"units\", \"plot_label\": \"label\"}\n",
    ")\n",
    "df"
   ]
  },
  {
   "cell_type": "code",
   "execution_count": 18,
   "metadata": {},
   "outputs": [],
   "source": [
    "df.to_csv(os.path.join(OUT_DIR, \"variable.csv\"), index=False)\n"
   ]
  }
 ],
 "metadata": {
  "kernelspec": {
   "display_name": "Python 3.10.6 ('climate-watch-uk')",
   "language": "python",
   "name": "python3"
  },
  "language_info": {
   "codemirror_mode": {
    "name": "ipython",
    "version": 3
   },
   "file_extension": ".py",
   "mimetype": "text/x-python",
   "name": "python",
   "nbconvert_exporter": "python",
   "pygments_lexer": "ipython3",
   "version": "3.10.6 | packaged by conda-forge | (main, Aug 22 2022, 20:36:39) [GCC 10.4.0]"
  },
  "orig_nbformat": 4,
  "vscode": {
   "interpreter": {
    "hash": "c854546abfe7675fb91040f7a9b26eea616d985cf4a026000aaaf57beb5b71ee"
   }
  }
 },
 "nbformat": 4,
 "nbformat_minor": 2
}
